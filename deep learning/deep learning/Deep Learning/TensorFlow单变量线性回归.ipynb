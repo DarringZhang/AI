{
 "cells": [
  {
   "cell_type": "markdown",
   "metadata": {},
   "source": [
    "# 单变量线性回归\n"
   ]
  },
  {
   "cell_type": "markdown",
   "metadata": {
    "toc": true
   },
   "source": [
    "<h1>目录<span class=\"tocSkip\"></span></h1>\n",
    "<div class=\"toc\"><ul class=\"toc-item\"><li><span><a href=\"#使用Tensorflow进行算法设计与训练的核心步骤\" data-toc-modified-id=\"使用Tensorflow进行算法设计与训练的核心步骤-1\"><span class=\"toc-item-num\">1&nbsp;&nbsp;</span>使用Tensorflow进行算法设计与训练的核心步骤</a></span></li><li><span><a href=\"#Tensorflow实现单变量线性回归\" data-toc-modified-id=\"Tensorflow实现单变量线性回归-2\"><span class=\"toc-item-num\">2&nbsp;&nbsp;</span>Tensorflow实现单变量线性回归</a></span><ul class=\"toc-item\"><li><span><a href=\"#生成数据\" data-toc-modified-id=\"生成数据-2.1\"><span class=\"toc-item-num\">2.1&nbsp;&nbsp;</span>生成数据</a></span></li><li><span><a href=\"#构建模型\" data-toc-modified-id=\"构建模型-2.2\"><span class=\"toc-item-num\">2.2&nbsp;&nbsp;</span>构建模型</a></span></li><li><span><a href=\"#训练模型\" data-toc-modified-id=\"训练模型-2.3\"><span class=\"toc-item-num\">2.3&nbsp;&nbsp;</span>训练模型</a></span></li><li><span><a href=\"#进行预测\" data-toc-modified-id=\"进行预测-2.4\"><span class=\"toc-item-num\">2.4&nbsp;&nbsp;</span>进行预测</a></span></li></ul></li><li><span><a href=\"#小结\" data-toc-modified-id=\"小结-3\"><span class=\"toc-item-num\">3&nbsp;&nbsp;</span>小结</a></span></li></ul></div>"
   ]
  },
  {
   "cell_type": "markdown",
   "metadata": {},
   "source": [
    "# 使用Tensorflow进行算法设计与训练的核心步骤"
   ]
  },
  {
   "cell_type": "markdown",
   "metadata": {},
   "source": [
    "- ** （1）准备数据 **\n",
    "- ** （2）构建模型 **\n",
    "- ** （3）训练模型 **\n",
    "- ** （4）测试评估 **\n",
    "\n",
    "上述步骤是我们使用Tensorflow进行算法设计与训练的核心步骤，贯穿于后面介绍的具体实战中。<br> 本章用一个简单的例子来讲解这几个步骤。"
   ]
  },
  {
   "cell_type": "markdown",
   "metadata": {},
   "source": [
    "# Tensorflow实现单变量线性回归"
   ]
  },
  {
   "cell_type": "markdown",
   "metadata": {},
   "source": [
    "假设我们要学习的函数为线性函数$ y=2x+1 $"
   ]
  },
  {
   "cell_type": "markdown",
   "metadata": {},
   "source": [
    "## 准备数据"
   ]
  },
  {
   "cell_type": "code",
   "execution_count": 182,
   "metadata": {},
   "outputs": [],
   "source": [
    "\n",
    "%matplotlib inline\n",
    "import matplotlib .pyplot as plt\n",
    "import numpy as np\n",
    "import tensorflow as tf\n",
    "np.random.seed(5)"
   ]
  },
  {
   "cell_type": "markdown",
   "metadata": {},
   "source": [
    "** 首先，生成输入数据。 ** <br> 我们需要构造满足这个函数的$x$和$y$同时加入一些不满足方程的噪声."
   ]
  },
  {
   "cell_type": "code",
   "execution_count": 183,
   "metadata": {},
   "outputs": [],
   "source": [
    "\n",
    "\n",
    "x_data = np.linspace(-1, 1, 100)\n",
    "y_data = 2*x_data+1.0\n",
    "y_data+=np.random.randn(*x_data.shape)*0.5 #随机生成x_data维度的数组/2,给y_data加上。"
   ]
  },
  {
   "cell_type": "markdown",
   "metadata": {},
   "source": [
    "** 利用matplotlib画图 **"
   ]
  },
  {
   "cell_type": "code",
   "execution_count": 184,
   "metadata": {},
   "outputs": [
    {
     "data": {
      "text/plain": [
       "<matplotlib.collections.PathCollection at 0xb42bd6b00>"
      ]
     },
     "execution_count": 184,
     "metadata": {},
     "output_type": "execute_result"
    },
    {
     "data": {
      "image/png": "[encoded data removed]",
      "text/plain": [
       "<Figure size 432x288 with 1 Axes>"
      ]
     },
     "metadata": {
      "needs_background": "light"
     },
     "output_type": "display_data"
    }
   ],
   "source": [
    "\n",
    "\n",
    "plt.figure()\n",
    "plt.scatter(x_data,y_data)"
   ]
  },
  {
   "cell_type": "code",
   "execution_count": null,
   "metadata": {},
   "outputs": [],
   "source": []
  },
  {
   "cell_type": "code",
   "execution_count": null,
   "metadata": {},
   "outputs": [],
   "source": []
  },
  {
   "cell_type": "code",
   "execution_count": 185,
   "metadata": {},
   "outputs": [
    {
     "data": {
      "text/plain": [
       "[<matplotlib.lines.Line2D at 0xb42dfb2b0>]"
      ]
     },
     "execution_count": 185,
     "metadata": {},
     "output_type": "execute_result"
    },
    {
     "data": {
      "image/png": "[encoded data removed]",
      "text/plain": [
       "<Figure size 432x288 with 1 Axes>"
      ]
     },
     "metadata": {
      "needs_background": "light"
     },
     "output_type": "display_data"
    }
   ],
   "source": [
    "plt.scatter(x_data, y_data) \n",
    "# 画出我们想要学习到的线性函数 y = 2x +1\n",
    "plt.plot (x_data, 1.0 + 2 * x_data, color='red') \n",
    "\n"
   ]
  },
  {
   "cell_type": "code",
   "execution_count": null,
   "metadata": {},
   "outputs": [],
   "source": []
  },
  {
   "cell_type": "markdown",
   "metadata": {},
   "source": [
    "## 构建模型"
   ]
  },
  {
   "cell_type": "markdown",
   "metadata": {},
   "source": [
    "** 定义$x$和$y$的占位符 **"
   ]
  },
  {
   "cell_type": "code",
   "execution_count": 186,
   "metadata": {},
   "outputs": [],
   "source": [
    "\n",
    "x = tf.placeholder(\"float\", name = \"x\")\n",
    "y = tf.placeholder(\"float\", name = \"y\")"
   ]
  },
  {
   "cell_type": "code",
   "execution_count": null,
   "metadata": {},
   "outputs": [],
   "source": []
  },
  {
   "cell_type": "markdown",
   "metadata": {},
   "source": [
    "** 构建回归模型 **"
   ]
  },
  {
   "cell_type": "code",
   "execution_count": 187,
   "metadata": {},
   "outputs": [],
   "source": [
    "\n",
    "\n",
    "def model(x, w, b):\n",
    "    return tf.multiply(x, w) + b"
   ]
  },
  {
   "cell_type": "markdown",
   "metadata": {},
   "source": [
    "** 创建变量 **\n",
    "<br>\n",
    "- Tensorflow变量的声明函数是tf.Variable\n",
    "- tf.Variable的作用是保存和更新参数\n",
    "- 变量的初始值可以是随机数、常数，或是通过其他变量的初始值计算得到"
   ]
  },
  {
   "cell_type": "code",
   "execution_count": 188,
   "metadata": {},
   "outputs": [],
   "source": [
    "w = tf.Variable(-1.0, name=\"w0\")\n",
    "b = tf.Variable(0.0, name=\"b0\")"
   ]
  },
  {
   "cell_type": "code",
   "execution_count": 189,
   "metadata": {},
   "outputs": [],
   "source": [
    "\n",
    "pred = model(x, w, b)"
   ]
  },
  {
   "cell_type": "markdown",
   "metadata": {},
   "source": [
    "## 训练模型"
   ]
  },
  {
   "cell_type": "markdown",
   "metadata": {},
   "source": [
    "** 设置训练参数 **"
   ]
  },
  {
   "cell_type": "code",
   "execution_count": 190,
   "metadata": {},
   "outputs": [],
   "source": [
    "\n",
    "\n",
    "train_epochs = 30\n",
    "learning_rate = 0.05"
   ]
  },
  {
   "cell_type": "markdown",
   "metadata": {},
   "source": [
    "** 关于学习率（learning_rate）的设置 **<br>\n",
    "- 学习率的作用：控制参数更新的幅度。\n",
    "- 如果学习率设置过大，可能导致参数在极值附近来回摇摆，无法保证收敛。\n",
    "- 如果学习率设置过小，虽然能保证收敛，但优化速度会大大降低，我们需要更多迭代次数才能达到较理想的优化效果。"
   ]
  },
  {
   "cell_type": "markdown",
   "metadata": {},
   "source": [
    "** 定义损失函数 **\n",
    "<br>\n",
    "- 损失函数用于描述预测值与真实值之间的误差，从而指导模型收敛方向\n",
    "- 常见损失函数：均方差（Mean Square Error, MSE）和交叉熵（cross-entropy）"
   ]
  },
  {
   "cell_type": "code",
   "execution_count": 191,
   "metadata": {},
   "outputs": [],
   "source": [
    "loss_function = tf.pow(y-pred, 2) # 本例中采用均方差作为损失函数"
   ]
  },
  {
   "cell_type": "markdown",
   "metadata": {},
   "source": [
    "** 选择优化器 **"
   ]
  },
  {
   "cell_type": "code",
   "execution_count": 192,
   "metadata": {},
   "outputs": [],
   "source": [
    "optimizer = tf.train.GradientDescentOptimizer(learning_rate).minimize(loss_function)# 梯度下降\n"
   ]
  },
  {
   "cell_type": "markdown",
   "metadata": {},
   "source": [
    "** 声明会话 **"
   ]
  },
  {
   "cell_type": "code",
   "execution_count": 193,
   "metadata": {},
   "outputs": [],
   "source": [
    "sess = tf.Session()"
   ]
  },
  {
   "cell_type": "markdown",
   "metadata": {},
   "source": [
    "** 变量初始化 **\n",
    "- 在真正执行计算之前，需将所有变量初始化\n",
    "- 通过** tf.global_variables_initializer **函数可实现对所有变量的初始化"
   ]
  },
  {
   "cell_type": "code",
   "execution_count": 194,
   "metadata": {},
   "outputs": [],
   "source": [
    "\n",
    "init = tf.global_variables_initializer()"
   ]
  },
  {
   "cell_type": "markdown",
   "metadata": {},
   "source": [
    "** 执行训练 **"
   ]
  },
  {
   "cell_type": "code",
   "execution_count": 195,
   "metadata": {
    "scrolled": false
   },
   "outputs": [
    {
     "data": {
      "image/png": "[encoded data removed]",
      "text/plain": [
       "<Figure size 432x288 with 1 Axes>"
      ]
     },
     "metadata": {
      "needs_background": "light"
     },
     "output_type": "display_data"
    }
   ],
   "source": [
    "sess.run(init)\n",
    "plt.scatter(x_data, y_data) \n",
    "for epoch in range(train_epochs):\n",
    "    for xs,ys in zip(x_data, y_data):\n",
    "        _, loss=sess.run([optimizer,loss_function], feed_dict={x: xs, y: ys})      \n",
    "    b0temp=b.eval(session=sess)\n",
    "    w0temp=w.eval(session=sess)\n",
    "    plt.plot (x_data, b0temp + w0temp * x_data )# 画图\n"
   ]
  },
  {
   "cell_type": "code",
   "execution_count": null,
   "metadata": {},
   "outputs": [],
   "source": []
  },
  {
   "cell_type": "markdown",
   "metadata": {},
   "source": [
    "从上图可以看出，由于本案例所拟合的模型较简单，训练3次之后已经接近收敛。<br> 对于复杂模型，需要更多次训练才能收敛。"
   ]
  },
  {
   "cell_type": "markdown",
   "metadata": {},
   "source": [
    "** 打印结果 **"
   ]
  },
  {
   "cell_type": "code",
   "execution_count": 196,
   "metadata": {},
   "outputs": [
    {
     "name": "stdout",
     "output_type": "stream",
     "text": [
      "w： 1.9778701\n",
      "b： 1.0525162\n"
     ]
    }
   ],
   "source": [
    "print  (\"w：\", sess.run(w)) # w的值应该在2附近 \n",
    "print (\"b：\", sess.run(b)) # b的值应该在1附近 "
   ]
  },
  {
   "cell_type": "markdown",
   "metadata": {},
   "source": [
    "** 可视化 **"
   ]
  },
  {
   "cell_type": "code",
   "execution_count": 197,
   "metadata": {},
   "outputs": [
    {
     "data": {
      "text/plain": [
       "<matplotlib.legend.Legend at 0xb43112828>"
      ]
     },
     "execution_count": 197,
     "metadata": {},
     "output_type": "execute_result"
    },
    {
     "data": {
      "image/png": "[encoded data removed]",
      "text/plain": [
       "<Figure size 432x288 with 1 Axes>"
      ]
     },
     "metadata": {
      "needs_background": "light"
     },
     "output_type": "display_data"
    }
   ],
   "source": [
    "\n",
    "\n",
    "plt.scatter(x_data,y_data,label=\"Original data\")\n",
    "plt.plot(x_data,x_data*sess.run(w)+sess.run(b),label='Fitted line')\n",
    "plt.legend(loc=2)"
   ]
  },
  {
   "cell_type": "markdown",
   "metadata": {},
   "source": [
    "## 进行预测"
   ]
  },
  {
   "cell_type": "code",
   "execution_count": 198,
   "metadata": {},
   "outputs": [
    {
     "name": "stdout",
     "output_type": "stream",
     "text": [
      "预测值：24.786958\n",
      "目标值：25.000000\n"
     ]
    }
   ],
   "source": [
    "x_test = 12.0\n",
    "output = sess.run(w)  * x_test + sess.run(b)\n",
    "print(\"预测值：%f\" % output)\n",
    "target = 2 * x_test + 1.0\n",
    "print(\"目标值：%f\" % target)\n",
    "\n",
    "sess.close()"
   ]
  },
  {
   "cell_type": "markdown",
   "metadata": {},
   "source": [
    "** 以上是利用Tensorflow训练一个线性模型并进行预测的完整过程。<br> 通过逐渐降低损失值loss来训练参数$w$和$b$拟合 $y = 2x + 1$中的系数2和1。 ** "
   ]
  },
  {
   "cell_type": "markdown",
   "metadata": {},
   "source": [
    "# 小结"
   ]
  },
  {
   "cell_type": "markdown",
   "metadata": {},
   "source": [
    "** 通过一个简单的例子介绍了利用Tensorflow实现机器学习的思路，重点讲解了下述步骤： ** <br>\n",
    "** - （1）生成人工数据集及其可视化 ** <br>\n",
    "** - （2）构建线性模型 **<br>\n",
    "** - （3）定义损失函数 **<br>\n",
    "** - （4）最小化损失函数 **<br>\n",
    "** - （5）训练结果的可视化 **<br>\n",
    "** - （6）利用学习到的模型进行预测 **\n",
    "\n"
   ]
  }
 ],
 "metadata": {
  "anaconda-cloud": {},
  "kernelspec": {
   "display_name": "Python 3",
   "language": "python",
   "name": "python3"
  },
  "language_info": {
   "codemirror_mode": {
    "name": "ipython",
    "version": 3
   },
   "file_extension": ".py",
   "mimetype": "text/x-python",
   "name": "python",
   "nbconvert_exporter": "python",
   "pygments_lexer": "ipython3",
   "version": "3.7.1"
  },
  "toc": {
   "base_numbering": 1,
   "nav_menu": {},
   "number_sections": true,
   "sideBar": true,
   "skip_h1_title": false,
   "title_cell": "目录",
   "title_sidebar": "Contents",
   "toc_cell": true,
   "toc_position": {},
   "toc_section_display": true,
   "toc_window_display": true
  }
 },
 "nbformat": 4,
 "nbformat_minor": 2
}
