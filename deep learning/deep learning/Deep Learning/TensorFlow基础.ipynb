{
 "cells": [
  {
   "cell_type": "markdown",
   "metadata": {},
   "source": [
    "# TensorFlow基础\n",
    "\n",
    "\n",
    "\n",
    "TensorFlow™是Google开发的一个基于数据流图编程的开源软件库，被广泛应用于各类机器学习算法的编程实现，可部署于各类服务器、PC终端和移动端等多种设备上，并支持GPU和TPU高性能数值计算，是机器学习和深度学习领域的主流框架之一。"
   ]
  },
  {
   "cell_type": "code",
   "execution_count": 5,
   "metadata": {},
   "outputs": [
    {
     "data": {
      "text/plain": [
       "'1.13.1'"
      ]
     },
     "execution_count": 5,
     "metadata": {},
     "output_type": "execute_result"
    }
   ],
   "source": [
    "# 测试安装是否成功\n",
    "import tensorflow as tf\n",
    "tf.__version__\n",
    "\n"
   ]
  },
  {
   "cell_type": "code",
   "execution_count": null,
   "metadata": {},
   "outputs": [],
   "source": []
  },
  {
   "cell_type": "markdown",
   "metadata": {},
   "source": [
    "### 用TensorFlow说Hello World!"
   ]
  },
  {
   "cell_type": "code",
   "execution_count": 8,
   "metadata": {},
   "outputs": [
    {
     "name": "stdout",
     "output_type": "stream",
     "text": [
      "b'1'\n"
     ]
    }
   ],
   "source": [
    "# 创建一个常值\n",
    "\n",
    "hello = tf.constant(\"1\")\n",
    "# 创建一个TF会话\n",
    "\n",
    "sess = tf.Session()\n",
    "\n",
    "# 运行并获得结果\n",
    "print(sess.run(hello))\n"
   ]
  },
  {
   "cell_type": "code",
   "execution_count": null,
   "metadata": {},
   "outputs": [],
   "source": []
  },
  {
   "cell_type": "markdown",
   "metadata": {},
   "source": [
    "这里‘b’表示Bytes literals（字节文字）。"
   ]
  },
  {
   "cell_type": "markdown",
   "metadata": {},
   "source": [
    "### 数据流图\n",
    "\n",
    "TensorFlow程序的执行分为创建流图、执行对话两个部分。\n",
    "\n",
    "TensorFlow内部将上述计算过程表征为**数据流图**，也称为**计算图**。\n",
    "\n",
    "创建流图（或计算图）就是建立计算模型，执行对话则是提供数据并获得结果。\n",
    "\n",
    "计算图是一个有向图，由以下内容构成：\n",
    "\n",
    "- 一组节点，每个节点都代表一种运算\n",
    "\n",
    "\n",
    "- 一组有向边，每个边代表实施运算所需要的数据\n",
    "\n",
    "TensorFlow有两种边：\n",
    "\n",
    "- 常规边：带有节点之间的数据结构。一个节点的运算输出成为另一个节点的输入，连接两个节点的边携带着值。\n",
    "\n",
    "\n",
    "- 特殊边：不携带值，值表示两个节点之间的控制相关性。比如，$X$和$Y$之间的边可以表示只有当$X$中的运算执行完毕后才执行$X$。\n"
   ]
  },
  {
   "cell_type": "code",
   "execution_count": 11,
   "metadata": {},
   "outputs": [
    {
     "name": "stdout",
     "output_type": "stream",
     "text": [
      "Tensor(\"Add_2:0\", shape=(), dtype=float32)\n",
      "7.0\n"
     ]
    }
   ],
   "source": [
    "# 一个简单计算图\n",
    "\n",
    "node1 = tf.constant(3.0,tf.float32,name=\"node1\")\n",
    "node2 = tf.constant(4.0,tf.float32,name=\"node2\")\n",
    "node3 = tf.add(node1,node2)\n",
    "print(node3)\n",
    "sess = tf.Session()\n",
    "print(sess.run(node3))\n",
    "sess.close()"
   ]
  },
  {
   "cell_type": "code",
   "execution_count": 17,
   "metadata": {},
   "outputs": [
    {
     "name": "stdout",
     "output_type": "stream",
     "text": [
      "Tensor(\"Add_3:0\", shape=(), dtype=float32)\n"
     ]
    }
   ],
   "source": [
    "print(node3)"
   ]
  },
  {
   "cell_type": "markdown",
   "metadata": {},
   "source": [
    "输出的结果不是一个具体的数字，而是一个张量的结构"
   ]
  },
  {
   "cell_type": "code",
   "execution_count": 18,
   "metadata": {},
   "outputs": [
    {
     "name": "stdout",
     "output_type": "stream",
     "text": [
      "Tensor(\"node1_2:0\", shape=(), dtype=float32)\n"
     ]
    }
   ],
   "source": [
    "print(node1)"
   ]
  },
  {
   "cell_type": "code",
   "execution_count": 19,
   "metadata": {},
   "outputs": [
    {
     "name": "stdout",
     "output_type": "stream",
     "text": [
      "运行sess.run(node1)的结果： 3.0\n"
     ]
    }
   ],
   "source": [
    "# 建立会话并显示运行结果\n",
    "sess = tf.Session()\n",
    "print(\"运行sess.run(node1)的结果：\", sess.run(node1))"
   ]
  },
  {
   "cell_type": "code",
   "execution_count": 20,
   "metadata": {},
   "outputs": [
    {
     "name": "stdout",
     "output_type": "stream",
     "text": [
      "运行sess.run(node3)的结果： 7.0\n"
     ]
    }
   ],
   "source": [
    "# 更新变量并返回计算结果\n",
    "print(\"运行sess.run(node3)的结果：\", sess.run(node3))\n",
    "\n",
    "# 关闭session\n",
    "sess.close()"
   ]
  },
  {
   "cell_type": "markdown",
   "metadata": {},
   "source": [
    "### 张量的属性"
   ]
  },
  {
   "cell_type": "markdown",
   "metadata": {},
   "source": [
    "Tensor(\"add:0\", shape=(2,), dtype=float32)\n",
    "\n",
    "名字（name）\n",
    "\n",
    "\t“node:src_output”：node 节点名称，src_output 来自节点的第几个输出\n",
    "    \n",
    "形状（shape）\n",
    "\n",
    "\t张量的维度信息， shape=(2,) 一维数组，长度为2\n",
    "    \n",
    "类型（type）\n",
    "\n",
    "\t每一个张量会有一个唯一的类型。\n",
    "    \n",
    "\tTensorFlow会对参与运算的所有张量进行类型的检查，发现类型不匹配时会报错\n",
    "    "
   ]
  },
  {
   "cell_type": "markdown",
   "metadata": {},
   "source": [
    "### 张量的阶（Rank）、秩"
   ]
  },
  {
   "cell_type": "markdown",
   "metadata": {},
   "source": [
    "张量的阶（rank）表征了张量的维度\n",
    "\n",
    "阶为0的张量等价于标量；\n",
    "\n",
    "阶为1的张量等价于向量；\n",
    "\n",
    "阶为2的张量等价于矩阵，通过t[i,j] 获取元素；\n",
    "\n",
    "阶为3的张量，通过t[i,j,k] 获取元素；"
   ]
  },
  {
   "cell_type": "code",
   "execution_count": 14,
   "metadata": {},
   "outputs": [
    {
     "name": "stdout",
     "output_type": "stream",
     "text": [
      "Tensor(\"Const_3:0\", shape=(2, 2, 2), dtype=int32)\n",
      "8\n"
     ]
    }
   ],
   "source": [
    "\n",
    "tensor1 = tf.constant([[[1,2],[3,4]],[[5,6],[7,8]]])\n",
    "sess = tf.Session()\n",
    "print(tensor1)\n",
    "print(sess.run(tensor1)[1,1,1])\n",
    "sess.close()"
   ]
  },
  {
   "cell_type": "markdown",
   "metadata": {},
   "source": [
    "下标从0开始"
   ]
  },
  {
   "cell_type": "markdown",
   "metadata": {},
   "source": [
    "### 张量的形状（Shape）"
   ]
  },
  {
   "cell_type": "code",
   "execution_count": 15,
   "metadata": {},
   "outputs": [
    {
     "name": "stdout",
     "output_type": "stream",
     "text": [
      "Tensor(\"Const_4:0\", shape=(3, 2, 2), dtype=int32)\n"
     ]
    }
   ],
   "source": [
    "\n",
    "\n",
    "tensor2= tf.constant([[[1,2],[2,3]],[[3,4],[5,6]],[[7,8],[9,10]]])\n",
    "print(tensor2)"
   ]
  },
  {
   "cell_type": "code",
   "execution_count": 18,
   "metadata": {},
   "outputs": [
    {
     "name": "stdout",
     "output_type": "stream",
     "text": [
      "()\n",
      "(5,)\n",
      "(2, 3)\n",
      "(3, 2, 1)\n"
     ]
    }
   ],
   "source": [
    "scalar = tf.constant(100)\n",
    "vector = tf.constant([1, 2, 3, 4, 5])\n",
    "matrix = tf.constant([[1, 2, 3], [4, 5, 6]])\n",
    "cube_matrix = tf.constant([[[1], [2]], [[3], [4]], [[5], [6]]])\n",
    "\n",
    "print(scalar.get_shape())\n",
    "print(vector.get_shape())\n",
    "print(matrix.get_shape())\n",
    "print(cube_matrix.get_shape())"
   ]
  },
  {
   "cell_type": "markdown",
   "metadata": {},
   "source": [
    "### 张量的数据类型"
   ]
  },
  {
   "cell_type": "markdown",
   "metadata": {},
   "source": [
    "TensorFlow支持14种不同的数据类型\n",
    "\n",
    "实数 \ttf.float32, tf.float64\n",
    "\n",
    "整数 \ttf.int8, tf.int16, tf.int32, tf.int64, tf.uint8\n",
    "\n",
    "布尔 \ttf.bool\n",
    "\n",
    "复数 \ttf.complex64, tf.complex128\n",
    "\n"
   ]
  },
  {
   "cell_type": "markdown",
   "metadata": {},
   "source": [
    "默认类型：\n",
    "\n",
    "不带小数点的数会被默认为int32\n",
    "\n",
    "带小数点的会被默认为float32\n"
   ]
  },
  {
   "cell_type": "code",
   "execution_count": 19,
   "metadata": {},
   "outputs": [
    {
     "ename": "TypeError",
     "evalue": "Input 'y' of 'Add' Op has type float32 that does not match type int32 of argument 'x'.",
     "output_type": "error",
     "traceback": [
      "\u001b[0;31m---------------------------------------------------------------------------\u001b[0m",
      "\u001b[0;31mValueError\u001b[0m                                Traceback (most recent call last)",
      "\u001b[0;32m~/anaconda3/lib/python3.7/site-packages/tensorflow/python/framework/op_def_library.py\u001b[0m in \u001b[0;36m_apply_op_helper\u001b[0;34m(self, op_type_name, name, **keywords)\u001b[0m\n\u001b[1;32m    510\u001b[0m                 \u001b[0mas_ref\u001b[0m\u001b[0;34m=\u001b[0m\u001b[0minput_arg\u001b[0m\u001b[0;34m.\u001b[0m\u001b[0mis_ref\u001b[0m\u001b[0;34m,\u001b[0m\u001b[0;34m\u001b[0m\u001b[0;34m\u001b[0m\u001b[0m\n\u001b[0;32m--> 511\u001b[0;31m                 preferred_dtype=default_dtype)\n\u001b[0m\u001b[1;32m    512\u001b[0m           \u001b[0;32mexcept\u001b[0m \u001b[0mTypeError\u001b[0m \u001b[0;32mas\u001b[0m \u001b[0merr\u001b[0m\u001b[0;34m:\u001b[0m\u001b[0;34m\u001b[0m\u001b[0;34m\u001b[0m\u001b[0m\n",
      "\u001b[0;32m~/anaconda3/lib/python3.7/site-packages/tensorflow/python/framework/ops.py\u001b[0m in \u001b[0;36minternal_convert_to_tensor\u001b[0;34m(value, dtype, name, as_ref, preferred_dtype, ctx, accept_symbolic_tensors)\u001b[0m\n\u001b[1;32m   1174\u001b[0m     \u001b[0;32mif\u001b[0m \u001b[0mret\u001b[0m \u001b[0;32mis\u001b[0m \u001b[0;32mNone\u001b[0m\u001b[0;34m:\u001b[0m\u001b[0;34m\u001b[0m\u001b[0;34m\u001b[0m\u001b[0m\n\u001b[0;32m-> 1175\u001b[0;31m       \u001b[0mret\u001b[0m \u001b[0;34m=\u001b[0m \u001b[0mconversion_func\u001b[0m\u001b[0;34m(\u001b[0m\u001b[0mvalue\u001b[0m\u001b[0;34m,\u001b[0m \u001b[0mdtype\u001b[0m\u001b[0;34m=\u001b[0m\u001b[0mdtype\u001b[0m\u001b[0;34m,\u001b[0m \u001b[0mname\u001b[0m\u001b[0;34m=\u001b[0m\u001b[0mname\u001b[0m\u001b[0;34m,\u001b[0m \u001b[0mas_ref\u001b[0m\u001b[0;34m=\u001b[0m\u001b[0mas_ref\u001b[0m\u001b[0;34m)\u001b[0m\u001b[0;34m\u001b[0m\u001b[0;34m\u001b[0m\u001b[0m\n\u001b[0m\u001b[1;32m   1176\u001b[0m \u001b[0;34m\u001b[0m\u001b[0m\n",
      "\u001b[0;32m~/anaconda3/lib/python3.7/site-packages/tensorflow/python/framework/ops.py\u001b[0m in \u001b[0;36m_TensorTensorConversionFunction\u001b[0;34m(t, dtype, name, as_ref)\u001b[0m\n\u001b[1;32m    976\u001b[0m         \u001b[0;34m\"Tensor conversion requested dtype %s for Tensor with dtype %s: %r\"\u001b[0m \u001b[0;34m%\u001b[0m\u001b[0;34m\u001b[0m\u001b[0;34m\u001b[0m\u001b[0m\n\u001b[0;32m--> 977\u001b[0;31m         (dtype.name, t.dtype.name, str(t)))\n\u001b[0m\u001b[1;32m    978\u001b[0m   \u001b[0;32mreturn\u001b[0m \u001b[0mt\u001b[0m\u001b[0;34m\u001b[0m\u001b[0;34m\u001b[0m\u001b[0m\n",
      "\u001b[0;31mValueError\u001b[0m: Tensor conversion requested dtype int32 for Tensor with dtype float32: 'Tensor(\"b_1:0\", shape=(2,), dtype=float32)'",
      "\nDuring handling of the above exception, another exception occurred:\n",
      "\u001b[0;31mTypeError\u001b[0m                                 Traceback (most recent call last)",
      "\u001b[0;32m<ipython-input-19-381123f669ee>\u001b[0m in \u001b[0;36m<module>\u001b[0;34m\u001b[0m\n\u001b[1;32m      1\u001b[0m \u001b[0ma\u001b[0m \u001b[0;34m=\u001b[0m \u001b[0mtf\u001b[0m\u001b[0;34m.\u001b[0m\u001b[0mconstant\u001b[0m\u001b[0;34m(\u001b[0m\u001b[0;34m[\u001b[0m\u001b[0;36m1\u001b[0m\u001b[0;34m,\u001b[0m \u001b[0;36m2\u001b[0m\u001b[0;34m]\u001b[0m\u001b[0;34m,\u001b[0m \u001b[0mname\u001b[0m\u001b[0;34m=\u001b[0m\u001b[0;34m\"a\"\u001b[0m\u001b[0;34m)\u001b[0m\u001b[0;34m\u001b[0m\u001b[0;34m\u001b[0m\u001b[0m\n\u001b[1;32m      2\u001b[0m \u001b[0mb\u001b[0m \u001b[0;34m=\u001b[0m \u001b[0mtf\u001b[0m\u001b[0;34m.\u001b[0m\u001b[0mconstant\u001b[0m\u001b[0;34m(\u001b[0m\u001b[0;34m[\u001b[0m\u001b[0;36m2.0\u001b[0m\u001b[0;34m,\u001b[0m \u001b[0;36m3.0\u001b[0m\u001b[0;34m]\u001b[0m\u001b[0;34m,\u001b[0m \u001b[0mname\u001b[0m\u001b[0;34m=\u001b[0m\u001b[0;34m\"b\"\u001b[0m\u001b[0;34m)\u001b[0m\u001b[0;34m\u001b[0m\u001b[0;34m\u001b[0m\u001b[0m\n\u001b[0;32m----> 3\u001b[0;31m \u001b[0mresult\u001b[0m \u001b[0;34m=\u001b[0m \u001b[0mtf\u001b[0m\u001b[0;34m.\u001b[0m\u001b[0madd\u001b[0m\u001b[0;34m(\u001b[0m\u001b[0ma\u001b[0m\u001b[0;34m,\u001b[0m\u001b[0mb\u001b[0m\u001b[0;34m)\u001b[0m\u001b[0;34m\u001b[0m\u001b[0;34m\u001b[0m\u001b[0m\n\u001b[0m",
      "\u001b[0;32m~/anaconda3/lib/python3.7/site-packages/tensorflow/python/ops/gen_math_ops.py\u001b[0m in \u001b[0;36madd\u001b[0;34m(x, y, name)\u001b[0m\n\u001b[1;32m    363\u001b[0m   \u001b[0;32mtry\u001b[0m\u001b[0;34m:\u001b[0m\u001b[0;34m\u001b[0m\u001b[0;34m\u001b[0m\u001b[0m\n\u001b[1;32m    364\u001b[0m     _, _, _op = _op_def_lib._apply_op_helper(\n\u001b[0;32m--> 365\u001b[0;31m         \"Add\", x=x, y=y, name=name)\n\u001b[0m\u001b[1;32m    366\u001b[0m   \u001b[0;32mexcept\u001b[0m \u001b[0;34m(\u001b[0m\u001b[0mTypeError\u001b[0m\u001b[0;34m,\u001b[0m \u001b[0mValueError\u001b[0m\u001b[0;34m)\u001b[0m\u001b[0;34m:\u001b[0m\u001b[0;34m\u001b[0m\u001b[0;34m\u001b[0m\u001b[0m\n\u001b[1;32m    367\u001b[0m     result = _dispatch.dispatch(\n",
      "\u001b[0;32m~/anaconda3/lib/python3.7/site-packages/tensorflow/python/framework/op_def_library.py\u001b[0m in \u001b[0;36m_apply_op_helper\u001b[0;34m(self, op_type_name, name, **keywords)\u001b[0m\n\u001b[1;32m    545\u001b[0m                   \u001b[0;34m\"%s type %s of argument '%s'.\"\u001b[0m \u001b[0;34m%\u001b[0m\u001b[0;34m\u001b[0m\u001b[0;34m\u001b[0m\u001b[0m\n\u001b[1;32m    546\u001b[0m                   (prefix, dtypes.as_dtype(attrs[input_arg.type_attr]).name,\n\u001b[0;32m--> 547\u001b[0;31m                    inferred_from[input_arg.type_attr]))\n\u001b[0m\u001b[1;32m    548\u001b[0m \u001b[0;34m\u001b[0m\u001b[0m\n\u001b[1;32m    549\u001b[0m           \u001b[0mtypes\u001b[0m \u001b[0;34m=\u001b[0m \u001b[0;34m[\u001b[0m\u001b[0mvalues\u001b[0m\u001b[0;34m.\u001b[0m\u001b[0mdtype\u001b[0m\u001b[0;34m]\u001b[0m\u001b[0;34m\u001b[0m\u001b[0;34m\u001b[0m\u001b[0m\n",
      "\u001b[0;31mTypeError\u001b[0m: Input 'y' of 'Add' Op has type float32 that does not match type int32 of argument 'x'."
     ]
    }
   ],
   "source": [
    "a = tf.constant([1, 2], name=\"a\")\n",
    "b = tf.constant([2.0, 3.0], name=\"b\")\n",
    "result = tf.add(a,b)"
   ]
  },
  {
   "cell_type": "markdown",
   "metadata": {},
   "source": [
    "运行报错：\n",
    "\n",
    "ValueError: Tensor conversion requested dtype int32 for Tensor with dtype float32: 'Tensor(\"b_3:0\", shape=(2,), dtype=float32)'\n",
    "\n",
    "TensorFlow会对参与运算的所有张量进行类型的检查，发现类型不匹配时会报错\n"
   ]
  },
  {
   "cell_type": "markdown",
   "metadata": {},
   "source": [
    "### 会话 Session"
   ]
  },
  {
   "cell_type": "markdown",
   "metadata": {},
   "source": [
    "会话拥有并管理TensorFlow程序运行时的所有资源\n",
    "\n",
    "当所有计算完成之后需要关闭会话帮助系统回收资源\n"
   ]
  },
  {
   "cell_type": "markdown",
   "metadata": {},
   "source": [
    "### 会话的典型模式1"
   ]
  },
  {
   "cell_type": "code",
   "execution_count": null,
   "metadata": {},
   "outputs": [],
   "source": [
    "# 创建一个会话\n",
    "sess = tf.Session()\n",
    "#使用这个创建好的会话来得到关心的运算的结果。比如可以调用 sess.run(result)\n",
    "#来得到张量result的取值\n",
    "sess.run()\n",
    "#关闭会话使得本次运行中使用到的资源可以被释放\n",
    "sess.close()\n"
   ]
  },
  {
   "cell_type": "markdown",
   "metadata": {},
   "source": [
    "需要明确调用 Session.close函数来关闭会话并释放资源\n"
   ]
  },
  {
   "cell_type": "markdown",
   "metadata": {},
   "source": [
    "### 会话的典型模式2 \n"
   ]
  },
  {
   "cell_type": "code",
   "execution_count": null,
   "metadata": {},
   "outputs": [],
   "source": [
    "node1 = tf.constant(1.0,tf.float32,name=\"node1\")\n",
    "node2 = tf.constant(2.0,tf.float32,name=\"node2\")\n",
    "result = tf.add(node1, node2)\n",
    "\n",
    "#创建一个会话，并通过Python中的上下文管理器来管理这个会话\n",
    "with tf.Session() as sess:\n",
    "    #使用这创建好的会话来计算关心的结果\n",
    "    print(sess.run(result))\n",
    "# 不需要再调用 Session.close() 函数来关闭会话\n",
    "# 当上下文退出时会话关闭和资源释放也自动完成了\n",
    "\n",
    "with tf.Session() as sess:\n",
    "    print(sess.run(result))\n"
   ]
  },
  {
   "cell_type": "markdown",
   "metadata": {},
   "source": [
    "### 指定默认的会话"
   ]
  },
  {
   "cell_type": "markdown",
   "metadata": {},
   "source": [
    "在构造静态的计算图时，如果没有特殊指定，tensorflow会生成默认的计算图，运算会自动加入这个默认的计算图中。\n",
    "对于会话功能，也有类似的机制，但是不会生成默认的会话，需要手动指定。当默认的会话被指定之后就可以通过tf.tensor.eval( )函数来计算一个张量的值。"
   ]
  },
  {
   "cell_type": "code",
   "execution_count": 23,
   "metadata": {},
   "outputs": [
    {
     "name": "stdout",
     "output_type": "stream",
     "text": [
      "3.0\n"
     ]
    }
   ],
   "source": [
    "node1 = tf.constant(1.0,tf.float32,name=\"node1\")\n",
    "node2 = tf.constant(2.0,tf.float32,name=\"node2\")\n",
    "result = tf.add(node1, node2)\n",
    "\n",
    "sess = tf.Session()\n",
    "with sess.as_default():\n",
    "    print(result.eval())\n"
   ]
  },
  {
   "cell_type": "markdown",
   "metadata": {},
   "source": [
    "下面代码也可以完成相同的功能"
   ]
  },
  {
   "cell_type": "code",
   "execution_count": 27,
   "metadata": {},
   "outputs": [
    {
     "name": "stdout",
     "output_type": "stream",
     "text": [
      "3.0\n"
     ]
    },
    {
     "ename": "ValueError",
     "evalue": "Cannot evaluate tensor using `eval()`: No default session is registered. Use `with sess.as_default()` or pass an explicit session to `eval(session=sess)`",
     "output_type": "error",
     "traceback": [
      "\u001b[0;31m---------------------------------------------------------------------------\u001b[0m",
      "\u001b[0;31mValueError\u001b[0m                                Traceback (most recent call last)",
      "\u001b[0;32m<ipython-input-27-02f8d0ce2fa3>\u001b[0m in \u001b[0;36m<module>\u001b[0;34m\u001b[0m\n\u001b[1;32m      4\u001b[0m \u001b[0mprint\u001b[0m\u001b[0;34m(\u001b[0m\u001b[0msess\u001b[0m\u001b[0;34m.\u001b[0m\u001b[0mrun\u001b[0m\u001b[0;34m(\u001b[0m\u001b[0mresult\u001b[0m\u001b[0;34m)\u001b[0m\u001b[0;34m)\u001b[0m\u001b[0;34m\u001b[0m\u001b[0;34m\u001b[0m\u001b[0m\n\u001b[1;32m      5\u001b[0m \u001b[0;34m\u001b[0m\u001b[0m\n\u001b[0;32m----> 6\u001b[0;31m \u001b[0mprint\u001b[0m\u001b[0;34m(\u001b[0m\u001b[0mresult\u001b[0m\u001b[0;34m.\u001b[0m\u001b[0meval\u001b[0m\u001b[0;34m(\u001b[0m\u001b[0;34m)\u001b[0m\u001b[0;34m)\u001b[0m\u001b[0;34m\u001b[0m\u001b[0;34m\u001b[0m\u001b[0m\n\u001b[0m",
      "\u001b[0;32m~/anaconda3/lib/python3.7/site-packages/tensorflow/python/framework/ops.py\u001b[0m in \u001b[0;36meval\u001b[0;34m(self, feed_dict, session)\u001b[0m\n\u001b[1;32m    693\u001b[0m \u001b[0;34m\u001b[0m\u001b[0m\n\u001b[1;32m    694\u001b[0m     \"\"\"\n\u001b[0;32m--> 695\u001b[0;31m     \u001b[0;32mreturn\u001b[0m \u001b[0m_eval_using_default_session\u001b[0m\u001b[0;34m(\u001b[0m\u001b[0mself\u001b[0m\u001b[0;34m,\u001b[0m \u001b[0mfeed_dict\u001b[0m\u001b[0;34m,\u001b[0m \u001b[0mself\u001b[0m\u001b[0;34m.\u001b[0m\u001b[0mgraph\u001b[0m\u001b[0;34m,\u001b[0m \u001b[0msession\u001b[0m\u001b[0;34m)\u001b[0m\u001b[0;34m\u001b[0m\u001b[0;34m\u001b[0m\u001b[0m\n\u001b[0m\u001b[1;32m    696\u001b[0m \u001b[0;34m\u001b[0m\u001b[0m\n\u001b[1;32m    697\u001b[0m \u001b[0;34m\u001b[0m\u001b[0m\n",
      "\u001b[0;32m~/anaconda3/lib/python3.7/site-packages/tensorflow/python/framework/ops.py\u001b[0m in \u001b[0;36m_eval_using_default_session\u001b[0;34m(tensors, feed_dict, graph, session)\u001b[0m\n\u001b[1;32m   5165\u001b[0m     \u001b[0msession\u001b[0m \u001b[0;34m=\u001b[0m \u001b[0mget_default_session\u001b[0m\u001b[0;34m(\u001b[0m\u001b[0;34m)\u001b[0m\u001b[0;34m\u001b[0m\u001b[0;34m\u001b[0m\u001b[0m\n\u001b[1;32m   5166\u001b[0m     \u001b[0;32mif\u001b[0m \u001b[0msession\u001b[0m \u001b[0;32mis\u001b[0m \u001b[0;32mNone\u001b[0m\u001b[0;34m:\u001b[0m\u001b[0;34m\u001b[0m\u001b[0;34m\u001b[0m\u001b[0m\n\u001b[0;32m-> 5167\u001b[0;31m       raise ValueError(\"Cannot evaluate tensor using `eval()`: No default \"\n\u001b[0m\u001b[1;32m   5168\u001b[0m                        \u001b[0;34m\"session is registered. Use `with \"\u001b[0m\u001b[0;34m\u001b[0m\u001b[0;34m\u001b[0m\u001b[0m\n\u001b[1;32m   5169\u001b[0m                        \u001b[0;34m\"sess.as_default()` or pass an explicit session to \"\u001b[0m\u001b[0;34m\u001b[0m\u001b[0;34m\u001b[0m\u001b[0m\n",
      "\u001b[0;31mValueError\u001b[0m: Cannot evaluate tensor using `eval()`: No default session is registered. Use `with sess.as_default()` or pass an explicit session to `eval(session=sess)`"
     ]
    }
   ],
   "source": [
    "sess = tf.Session()\n",
    "\n",
    "#下面两个命令有相同的功能\n",
    "print(sess.run(result))\n",
    "\n",
    "print(result.eval())\n"
   ]
  },
  {
   "cell_type": "markdown",
   "metadata": {},
   "source": [
    "### 交互式环境下设置默认会话"
   ]
  },
  {
   "cell_type": "markdown",
   "metadata": {},
   "source": [
    "在交互式环境下，Python脚本或者Jupyter编辑器下，通过设置默认会话来获取张量的取值更加方便\n",
    "\n",
    "使用tf.InteractiveSession( ) 这个函数会自动将生成的会话注册为默认会话\n"
   ]
  },
  {
   "cell_type": "code",
   "execution_count": 30,
   "metadata": {},
   "outputs": [
    {
     "name": "stdout",
     "output_type": "stream",
     "text": [
      "3.0\n"
     ]
    }
   ],
   "source": [
    "node1 = tf.constant(1.0,tf.float32,name=\"node1\")\n",
    "node2 = tf.constant(2.0,tf.float32,name=\"node2\")\n",
    "result = tf.add(node1, node2)\n",
    "\n",
    "sess = tf.InteractiveSession()\n",
    "print(result.eval())\n",
    "sess.close()\n"
   ]
  },
  {
   "cell_type": "code",
   "execution_count": null,
   "metadata": {},
   "outputs": [],
   "source": []
  },
  {
   "cell_type": "markdown",
   "metadata": {},
   "source": [
    "### 常量"
   ]
  },
  {
   "cell_type": "code",
   "execution_count": 31,
   "metadata": {},
   "outputs": [
    {
     "name": "stdout",
     "output_type": "stream",
     "text": [
      "3.5\n"
     ]
    }
   ],
   "source": [
    "a = tf.constant(1.0, name='a')\n",
    "b = tf.constant(2.5, name='b')\n",
    "c = tf.add(a, b, name='c')\n",
    "\n",
    "with tf.Session() as sess:\n",
    "    c_value=sess.run(c)\n",
    "    print(c_value)"
   ]
  },
  {
   "cell_type": "markdown",
   "metadata": {},
   "source": [
    "### 变量"
   ]
  },
  {
   "cell_type": "markdown",
   "metadata": {},
   "source": [
    "在运行时值可以改变的参数\n",
    "\n",
    "创建语句：\n",
    "\n",
    "name_variable = tf.Variable(value, name)\n",
    "\n",
    "注意V是大写字母\n",
    "\n",
    "初始化语句：\n",
    "\n",
    "个别变量初始化：\n",
    "\n",
    "init_op = name_variable.initializer()\n",
    "\n",
    "所有变量初始化：\n",
    "\n",
    "init_op = tf.global_variables_initializer()\n"
   ]
  },
  {
   "cell_type": "code",
   "execution_count": 34,
   "metadata": {},
   "outputs": [
    {
     "name": "stdout",
     "output_type": "stream",
     "text": [
      "3.0\n"
     ]
    }
   ],
   "source": [
    "node1 = tf.Variable(1.0,tf.float32,name=\"node1\")\n",
    "node2 = tf.Variable(2.0,tf.float32,name=\"node2\")\n",
    "result = tf.add(node1, node2, name='add')\n",
    "\n",
    "with tf.Session() as sess:\n",
    "    #变量初始化\n",
    "    init = tf.global_variables_initializer()\n",
    "    sess.run(init)\n",
    "    \n",
    "    \n",
    "    print(sess.run(result))"
   ]
  },
  {
   "cell_type": "markdown",
   "metadata": {},
   "source": [
    "以上代码在Session对话变量后，增加了一个init初始化变量，并调用会话的run命令对参数进行初始化。\n",
    "\n",
    "使用了Variable变量类型，不进行初始化数值会出现运行错误"
   ]
  },
  {
   "cell_type": "markdown",
   "metadata": {},
   "source": [
    "### 变量赋值 assign"
   ]
  },
  {
   "cell_type": "code",
   "execution_count": 41,
   "metadata": {},
   "outputs": [
    {
     "name": "stdout",
     "output_type": "stream",
     "text": [
      "0\n",
      "1\n",
      "2\n",
      "3\n",
      "4\n",
      "5\n",
      "6\n",
      "7\n",
      "8\n",
      "9\n",
      "10\n"
     ]
    }
   ],
   "source": [
    "value = tf.Variable(0, name=\"value\")\n",
    "one = tf.constant(1)\n",
    "new_value = tf.add(value, one)\n",
    "update_value = tf.assign(value, new_value)\n",
    "\n",
    "init = tf.global_variables_initializer()\n",
    "\n",
    "\n",
    "        \n",
    "with tf.Session() as sess:\n",
    "    sess.run(init)\n",
    "    print(sess.run(value))\n",
    "    for i in range(10):\n",
    "        sess.run(update_value)\n",
    "        print(sess.run(value))"
   ]
  },
  {
   "cell_type": "code",
   "execution_count": null,
   "metadata": {},
   "outputs": [],
   "source": []
  },
  {
   "cell_type": "markdown",
   "metadata": {},
   "source": [
    "与传统编程语言不同，TensorFlow中的变量一般定义后，无须人工手动赋值，系统会根据算法模型自动调整变量的数值。后面在将机器学习模型训练时会更能体会，比如权重Weight变量w，经过多次迭代，会自动调整。"
   ]
  },
  {
   "cell_type": "markdown",
   "metadata": {},
   "source": [
    "### 占位符"
   ]
  },
  {
   "cell_type": "markdown",
   "metadata": {},
   "source": [
    "TensorFlow中的Variable变量类型，在定义时需要初始化，但有些变量定义时并不知道其数值，只有当真正开始运行程序时，才由外部输入，比如训练数据，这时候需要用到占位符"
   ]
  },
  {
   "cell_type": "markdown",
   "metadata": {},
   "source": [
    "tf.placeholder占位符，是TensorFlow中特有的一种数据结构，类似动态变量，或者传统语言的“宏替换”符号；\n",
    "\n",
    "TensorFlow占位符Placeholder，先定义一种数据，其参数为数据的type和shape，占位符Placeholder的函数接口如下：\n",
    "\n",
    "tf.placeholder(dtype, shape=None, name=None)"
   ]
  },
  {
   "cell_type": "code",
   "execution_count": 43,
   "metadata": {},
   "outputs": [],
   "source": [
    "\n",
    "x = tf.placeholder(tf.float32, [2,2],name='tx')\n",
    "\n",
    "# 此代码生成一个2x2的二维矩阵，矩阵中每个元素的类型都是tf.float32，内部对应的符号名称是tx"
   ]
  },
  {
   "cell_type": "markdown",
   "metadata": {},
   "source": [
    "### Feed提交数据和Fetch提取输出\n"
   ]
  },
  {
   "cell_type": "code",
   "execution_count": 44,
   "metadata": {},
   "outputs": [
    {
     "name": "stdout",
     "output_type": "stream",
     "text": [
      "20.0\n"
     ]
    }
   ],
   "source": [
    "a = tf.placeholder(tf.float32, name='ta')\n",
    "b = tf.placeholder(tf.float32, name='tb')\n",
    "c = tf.multiply(a, b, name='tc')\n",
    "\n",
    "with tf.Session() as sess:\n",
    "    result = sess.run(c, feed_dict={a:2.0, b:10.0})\n",
    "    print(result)"
   ]
  },
  {
   "cell_type": "code",
   "execution_count": null,
   "metadata": {},
   "outputs": [],
   "source": []
  },
  {
   "cell_type": "code",
   "execution_count": 45,
   "metadata": {},
   "outputs": [
    {
     "name": "stdout",
     "output_type": "stream",
     "text": [
      "[array([3., 8.], dtype=float32), array([2., 2.], dtype=float32)]\n",
      "[3. 8.]\n"
     ]
    }
   ],
   "source": [
    "a = tf.placeholder(tf.float32, name='ta')\n",
    "b = tf.placeholder(tf.float32, name='tb')\n",
    "c = tf.multiply(a, b, name='tc')\n",
    "d = tf.subtract(a, b, name='td')\n",
    "\n",
    "with tf.Session() as sess: \n",
    "    result = sess.run([c,d], feed_dict={a:[3,4], b:[1,2]})\n",
    "    print(result)\n",
    "    print(result[0])"
   ]
  },
  {
   "cell_type": "markdown",
   "metadata": {},
   "source": [
    "### 可视化 TesnorBoard"
   ]
  },
  {
   "cell_type": "markdown",
   "metadata": {},
   "source": [
    "TensorBoard是TensorFlow的可视化工具\n",
    "\n",
    "通过TensorFlow程序运行过程中输出的日志文件可视化TensorFlow程序的运行状态\n",
    "\n",
    "TensorBoard和TensorFlow程序跑在不同的进程中\n"
   ]
  },
  {
   "cell_type": "code",
   "execution_count": 47,
   "metadata": {},
   "outputs": [],
   "source": [
    "import tensorflow as tf\n",
    "\n",
    "# logdir改为自己机器上的合适路径\n",
    "logdir='./log'\n",
    "\n",
    "#定义一个简单的计算图，实现向量加法的操作\n",
    "input1 = tf.constant([1.0, 2.0, 3.0], name=\"input1\")\n",
    "input2 = tf.Variable(tf.random_uniform([3]), name=\"input2\")\n",
    "output = tf.add_n([input1, input2], name=\"add\")\n",
    "\n",
    "#生成一个写日志的writer，并将当前的TensorFlow计算图写入日志。\n",
    "writer = tf.summary.FileWriter(logdir,tf.get_default_graph())\n",
    "writer.close()\n",
    "writer = tf.summary.FileWriter(logdir,tf.get_default_graph())"
   ]
  },
  {
   "cell_type": "markdown",
   "metadata": {},
   "source": [
    "#### 启动TensorBoard"
   ]
  },
  {
   "cell_type": "markdown",
   "metadata": {},
   "source": [
    "TensorBoard不需要额外安装，在TensorFlow安装时已自动完成\n",
    "\n",
    "在Anaconda Prompt中运行TensorBoard，并将日志的地址指向程序日志输出的地址\n",
    "\n",
    "命令：tensorboard --logdir=/path/log\n",
    "\n",
    "启动服务的端口默认为6006；使用 --port 参数可以改编启动服务的端口\n"
   ]
  },
  {
   "cell_type": "markdown",
   "metadata": {},
   "source": [
    "#### 访问TensorBoard"
   ]
  },
  {
   "cell_type": "markdown",
   "metadata": {},
   "source": [
    "浏览器访问网址\n",
    "\n",
    "http://localhost:6006\n"
   ]
  }
 ],
 "metadata": {
  "kernelspec": {
   "display_name": "Python 3",
   "language": "python",
   "name": "python3"
  },
  "language_info": {
   "codemirror_mode": {
    "name": "ipython",
    "version": 3
   },
   "file_extension": ".py",
   "mimetype": "text/x-python",
   "name": "python",
   "nbconvert_exporter": "python",
   "pygments_lexer": "ipython3",
   "version": "3.7.1"
  }
 },
 "nbformat": 4,
 "nbformat_minor": 2
}
